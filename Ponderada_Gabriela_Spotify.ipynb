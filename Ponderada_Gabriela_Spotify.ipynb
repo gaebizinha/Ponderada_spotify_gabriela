{
  "nbformat": 4,
  "nbformat_minor": 0,
  "metadata": {
    "colab": {
      "provenance": []
    },
    "kernelspec": {
      "name": "python3",
      "display_name": "Python 3"
    },
    "language_info": {
      "name": "python"
    }
  },
  "cells": [
    {
      "cell_type": "markdown",
      "source": [
        "# Escolha do dataset\n",
        "\n",
        "Para esta tarefa, vou usar o \"[Spotify Tracks Dataset](https://www.kaggle.com/datasets/maharshipandya/-spotify-tracks-dataset?resource=download)\", que contém informações sobre músicas disponíveis no Spotify.\n",
        "\n"
      ],
      "metadata": {
        "id": "cRR0FYs-mtJm"
      }
    },
    {
      "cell_type": "markdown",
      "source": [
        "# Exploração do Dataset\n",
        "\n",
        "## Características principais do dataset:\n",
        "\n",
        "\n",
        "*   Número de amostras: Estou utilizando o número de amostras de 160.000.\n",
        "*   Número de features: 19 características, danceability, energy, loudness, speechiness, acousticness, instrumentalness, liveness, valence, tempo, etc.\n",
        "*   Objetivo de classificação:  O objetivo é prever se uma música é \"popular\" (1) ou \"não popular\" (0), com base em um limiar de popularidade de 50, em uma escala de 0 a 100.\n",
        "\n",
        "\n",
        "\n"
      ],
      "metadata": {
        "id": "XbV7Elv6m9vY"
      }
    },
    {
      "cell_type": "markdown",
      "source": [
        "# Desenvolvimento do modelo"
      ],
      "metadata": {
        "id": "8gJqar5yoQjg"
      }
    },
    {
      "cell_type": "markdown",
      "source": [
        "## Importando bibliotecas"
      ],
      "metadata": {
        "id": "Nn1cDf_XoY1w"
      }
    },
    {
      "cell_type": "code",
      "source": [
        "import pandas as pd\n",
        "import numpy as np\n",
        "from sklearn.model_selection import train_test_split\n",
        "from sklearn.preprocessing import StandardScaler\n",
        "from sklearn.metrics import accuracy_score, f1_score\n",
        "from tensorflow.keras.models import Sequential\n",
        "from tensorflow.keras.layers import Dense\n",
        "from tensorflow.keras.optimizers import Adam\n",
        "import tensorflow as tf\n",
        "from google.colab import drive"
      ],
      "metadata": {
        "id": "MA5znjkRoVo8"
      },
      "execution_count": 6,
      "outputs": []
    },
    {
      "cell_type": "markdown",
      "source": [
        "## Conectando com drive para carregar dataset"
      ],
      "metadata": {
        "id": "TzZzaCfLocET"
      }
    },
    {
      "cell_type": "code",
      "source": [
        "drive.mount('/content/drive')\n",
        "filepath = '/content/drive/MyDrive/ponderada_spotify/dataset.csv/dataset.csv'\n",
        "df = pd.read_csv(filepath)\n",
        "\n",
        "print(df.head())\n"
      ],
      "metadata": {
        "colab": {
          "base_uri": "https://localhost:8080/"
        },
        "id": "xOCxZUqYiA8d",
        "outputId": "f413d89b-f5bc-4098-89e5-29ec4ee5cc44"
      },
      "execution_count": 7,
      "outputs": [
        {
          "output_type": "stream",
          "name": "stdout",
          "text": [
            "Drive already mounted at /content/drive; to attempt to forcibly remount, call drive.mount(\"/content/drive\", force_remount=True).\n",
            "   Unnamed: 0                track_id                 artists  \\\n",
            "0           0  5SuOikwiRyPMVoIQDJUgSV             Gen Hoshino   \n",
            "1           1  4qPNDBW1i3p13qLCt0Ki3A            Ben Woodward   \n",
            "2           2  1iJBSr7s7jYXzM8EGcbK5b  Ingrid Michaelson;ZAYN   \n",
            "3           3  6lfxq3CG4xtTiEg7opyCyx            Kina Grannis   \n",
            "4           4  5vjLSffimiIP26QG5WcN2K        Chord Overstreet   \n",
            "\n",
            "                                          album_name  \\\n",
            "0                                             Comedy   \n",
            "1                                   Ghost (Acoustic)   \n",
            "2                                     To Begin Again   \n",
            "3  Crazy Rich Asians (Original Motion Picture Sou...   \n",
            "4                                            Hold On   \n",
            "\n",
            "                   track_name  popularity  duration_ms  explicit  \\\n",
            "0                      Comedy          73       230666     False   \n",
            "1            Ghost - Acoustic          55       149610     False   \n",
            "2              To Begin Again          57       210826     False   \n",
            "3  Can't Help Falling In Love          71       201933     False   \n",
            "4                     Hold On          82       198853     False   \n",
            "\n",
            "   danceability  energy  ...  loudness  mode  speechiness  acousticness  \\\n",
            "0         0.676  0.4610  ...    -6.746     0       0.1430        0.0322   \n",
            "1         0.420  0.1660  ...   -17.235     1       0.0763        0.9240   \n",
            "2         0.438  0.3590  ...    -9.734     1       0.0557        0.2100   \n",
            "3         0.266  0.0596  ...   -18.515     1       0.0363        0.9050   \n",
            "4         0.618  0.4430  ...    -9.681     1       0.0526        0.4690   \n",
            "\n",
            "   instrumentalness  liveness  valence    tempo  time_signature  track_genre  \n",
            "0          0.000001    0.3580    0.715   87.917               4     acoustic  \n",
            "1          0.000006    0.1010    0.267   77.489               4     acoustic  \n",
            "2          0.000000    0.1170    0.120   76.332               4     acoustic  \n",
            "3          0.000071    0.1320    0.143  181.740               3     acoustic  \n",
            "4          0.000000    0.0829    0.167  119.949               4     acoustic  \n",
            "\n",
            "[5 rows x 21 columns]\n"
          ]
        }
      ]
    },
    {
      "cell_type": "markdown",
      "source": [
        "## Seleção das features"
      ],
      "metadata": {
        "id": "i3lUA6p-ovkP"
      }
    },
    {
      "cell_type": "code",
      "source": [
        "features = ['danceability', 'energy', 'loudness', 'speechiness', 'acousticness',\n",
        "            'instrumentalness', 'liveness', 'valence', 'tempo']\n",
        "X = df[features]\n"
      ],
      "metadata": {
        "id": "5ZE04Nomior_"
      },
      "execution_count": 8,
      "outputs": []
    },
    {
      "cell_type": "markdown",
      "source": [
        "## Convertendo a popularidade em uma tarefa binária"
      ],
      "metadata": {
        "id": "_-RBcHUIo1-o"
      }
    },
    {
      "cell_type": "code",
      "source": [
        "y = df['popularity']\n",
        "threshold = 50  # limiar de popularidade\n",
        "y = np.where(y > threshold, 1, 0)"
      ],
      "metadata": {
        "id": "v5zUJrq8o5iS"
      },
      "execution_count": 9,
      "outputs": []
    },
    {
      "cell_type": "markdown",
      "source": [
        "## Padronizando os dados"
      ],
      "metadata": {
        "id": "3NW5aRdQpAqy"
      }
    },
    {
      "cell_type": "code",
      "source": [
        "scaler = StandardScaler()\n",
        "X_scaled = scaler.fit_transform(X)"
      ],
      "metadata": {
        "id": "fgmC20EYi2Ip"
      },
      "execution_count": 10,
      "outputs": []
    },
    {
      "cell_type": "markdown",
      "source": [
        "## Dividindo em conjunto de treino e teste"
      ],
      "metadata": {
        "id": "R2Q3P_pcpHbz"
      }
    },
    {
      "cell_type": "code",
      "source": [
        "X_train, X_test, y_train, y_test = train_test_split(X_scaled, y, test_size=0.2, random_state=42, stratify=y)"
      ],
      "metadata": {
        "id": "goQF69kSpJNv"
      },
      "execution_count": 11,
      "outputs": []
    },
    {
      "cell_type": "markdown",
      "source": [
        "## Definindo o modelo sequencial"
      ],
      "metadata": {
        "id": "Lr2QuN12pMB3"
      }
    },
    {
      "cell_type": "code",
      "source": [
        "model = Sequential()\n",
        "model.add(Dense(1, activation='sigmoid', input_shape=(X_train.shape[1],)))"
      ],
      "metadata": {
        "colab": {
          "base_uri": "https://localhost:8080/"
        },
        "id": "7U4UavumpQZt",
        "outputId": "629b8e3a-adc3-4930-c569-7b12e17915ab"
      },
      "execution_count": 12,
      "outputs": [
        {
          "output_type": "stream",
          "name": "stderr",
          "text": [
            "/usr/local/lib/python3.10/dist-packages/keras/src/layers/core/dense.py:87: UserWarning: Do not pass an `input_shape`/`input_dim` argument to a layer. When using Sequential models, prefer using an `Input(shape)` object as the first layer in the model instead.\n",
            "  super().__init__(activity_regularizer=activity_regularizer, **kwargs)\n"
          ]
        }
      ]
    },
    {
      "cell_type": "markdown",
      "source": [
        "## Compilando o modelo"
      ],
      "metadata": {
        "id": "yXVCArO_pUIZ"
      }
    },
    {
      "cell_type": "code",
      "source": [
        "model.compile(optimizer=Adam(), loss='binary_crossentropy', metrics=['accuracy', tf.keras.metrics.AUC(name='auc')])"
      ],
      "metadata": {
        "id": "zf4ULWcXpV2G"
      },
      "execution_count": 14,
      "outputs": []
    },
    {
      "cell_type": "markdown",
      "source": [
        "## Treinando o modelo"
      ],
      "metadata": {
        "id": "GxogYK19pa1u"
      }
    },
    {
      "cell_type": "code",
      "source": [
        "history = model.fit(X_train, y_train, epochs=50, batch_size=10, validation_split=0.2, verbose=1)"
      ],
      "metadata": {
        "colab": {
          "base_uri": "https://localhost:8080/"
        },
        "id": "aPYixFxype5V",
        "outputId": "175f5d77-ebe6-4861-ecc7-e858c3795ae6"
      },
      "execution_count": 15,
      "outputs": [
        {
          "output_type": "stream",
          "name": "stdout",
          "text": [
            "Epoch 1/50\n",
            "\u001b[1m7296/7296\u001b[0m \u001b[32m━━━━━━━━━━━━━━━━━━━━\u001b[0m\u001b[37m\u001b[0m \u001b[1m21s\u001b[0m 3ms/step - accuracy: 0.6848 - auc: 0.5564 - loss: 0.6138 - val_accuracy: 0.7562 - val_auc: 0.6201 - val_loss: 0.5393\n",
            "Epoch 2/50\n",
            "\u001b[1m7296/7296\u001b[0m \u001b[32m━━━━━━━━━━━━━━━━━━━━\u001b[0m\u001b[37m\u001b[0m \u001b[1m18s\u001b[0m 2ms/step - accuracy: 0.7566 - auc: 0.6091 - loss: 0.5414 - val_accuracy: 0.7561 - val_auc: 0.6194 - val_loss: 0.5386\n",
            "Epoch 3/50\n",
            "\u001b[1m7296/7296\u001b[0m \u001b[32m━━━━━━━━━━━━━━━━━━━━\u001b[0m\u001b[37m\u001b[0m \u001b[1m16s\u001b[0m 2ms/step - accuracy: 0.7574 - auc: 0.6164 - loss: 0.5385 - val_accuracy: 0.7561 - val_auc: 0.6179 - val_loss: 0.5388\n",
            "Epoch 4/50\n",
            "\u001b[1m7296/7296\u001b[0m \u001b[32m━━━━━━━━━━━━━━━━━━━━\u001b[0m\u001b[37m\u001b[0m \u001b[1m29s\u001b[0m 3ms/step - accuracy: 0.7573 - auc: 0.6160 - loss: 0.5386 - val_accuracy: 0.7561 - val_auc: 0.6186 - val_loss: 0.5388\n",
            "Epoch 5/50\n",
            "\u001b[1m7296/7296\u001b[0m \u001b[32m━━━━━━━━━━━━━━━━━━━━\u001b[0m\u001b[37m\u001b[0m \u001b[1m16s\u001b[0m 2ms/step - accuracy: 0.7589 - auc: 0.6170 - loss: 0.5364 - val_accuracy: 0.7561 - val_auc: 0.6167 - val_loss: 0.5393\n",
            "Epoch 6/50\n",
            "\u001b[1m7296/7296\u001b[0m \u001b[32m━━━━━━━━━━━━━━━━━━━━\u001b[0m\u001b[37m\u001b[0m \u001b[1m23s\u001b[0m 3ms/step - accuracy: 0.7577 - auc: 0.6121 - loss: 0.5390 - val_accuracy: 0.7561 - val_auc: 0.6188 - val_loss: 0.5395\n",
            "Epoch 7/50\n",
            "\u001b[1m7296/7296\u001b[0m \u001b[32m━━━━━━━━━━━━━━━━━━━━\u001b[0m\u001b[37m\u001b[0m \u001b[1m17s\u001b[0m 2ms/step - accuracy: 0.7548 - auc: 0.6150 - loss: 0.5418 - val_accuracy: 0.7561 - val_auc: 0.6189 - val_loss: 0.5386\n",
            "Epoch 8/50\n",
            "\u001b[1m7296/7296\u001b[0m \u001b[32m━━━━━━━━━━━━━━━━━━━━\u001b[0m\u001b[37m\u001b[0m \u001b[1m22s\u001b[0m 3ms/step - accuracy: 0.7564 - auc: 0.6134 - loss: 0.5402 - val_accuracy: 0.7561 - val_auc: 0.6193 - val_loss: 0.5390\n",
            "Epoch 9/50\n",
            "\u001b[1m7296/7296\u001b[0m \u001b[32m━━━━━━━━━━━━━━━━━━━━\u001b[0m\u001b[37m\u001b[0m \u001b[1m15s\u001b[0m 2ms/step - accuracy: 0.7565 - auc: 0.6153 - loss: 0.5400 - val_accuracy: 0.7561 - val_auc: 0.6179 - val_loss: 0.5388\n",
            "Epoch 10/50\n",
            "\u001b[1m7296/7296\u001b[0m \u001b[32m━━━━━━━━━━━━━━━━━━━━\u001b[0m\u001b[37m\u001b[0m \u001b[1m22s\u001b[0m 2ms/step - accuracy: 0.7558 - auc: 0.6166 - loss: 0.5397 - val_accuracy: 0.7561 - val_auc: 0.6184 - val_loss: 0.5397\n",
            "Epoch 11/50\n",
            "\u001b[1m7296/7296\u001b[0m \u001b[32m━━━━━━━━━━━━━━━━━━━━\u001b[0m\u001b[37m\u001b[0m \u001b[1m28s\u001b[0m 3ms/step - accuracy: 0.7593 - auc: 0.6179 - loss: 0.5361 - val_accuracy: 0.7561 - val_auc: 0.6170 - val_loss: 0.5386\n",
            "Epoch 12/50\n",
            "\u001b[1m7296/7296\u001b[0m \u001b[32m━━━━━━━━━━━━━━━━━━━━\u001b[0m\u001b[37m\u001b[0m \u001b[1m24s\u001b[0m 3ms/step - accuracy: 0.7589 - auc: 0.6126 - loss: 0.5377 - val_accuracy: 0.7561 - val_auc: 0.6188 - val_loss: 0.5387\n",
            "Epoch 13/50\n",
            "\u001b[1m7296/7296\u001b[0m \u001b[32m━━━━━━━━━━━━━━━━━━━━\u001b[0m\u001b[37m\u001b[0m \u001b[1m24s\u001b[0m 3ms/step - accuracy: 0.7583 - auc: 0.6143 - loss: 0.5382 - val_accuracy: 0.7561 - val_auc: 0.6196 - val_loss: 0.5384\n",
            "Epoch 14/50\n",
            "\u001b[1m7296/7296\u001b[0m \u001b[32m━━━━━━━━━━━━━━━━━━━━\u001b[0m\u001b[37m\u001b[0m \u001b[1m25s\u001b[0m 3ms/step - accuracy: 0.7548 - auc: 0.6109 - loss: 0.5427 - val_accuracy: 0.7562 - val_auc: 0.6178 - val_loss: 0.5385\n",
            "Epoch 15/50\n",
            "\u001b[1m7296/7296\u001b[0m \u001b[32m━━━━━━━━━━━━━━━━━━━━\u001b[0m\u001b[37m\u001b[0m \u001b[1m35s\u001b[0m 3ms/step - accuracy: 0.7550 - auc: 0.6107 - loss: 0.5424 - val_accuracy: 0.7561 - val_auc: 0.6172 - val_loss: 0.5389\n",
            "Epoch 16/50\n",
            "\u001b[1m7296/7296\u001b[0m \u001b[32m━━━━━━━━━━━━━━━━━━━━\u001b[0m\u001b[37m\u001b[0m \u001b[1m24s\u001b[0m 3ms/step - accuracy: 0.7545 - auc: 0.6153 - loss: 0.5421 - val_accuracy: 0.7561 - val_auc: 0.6183 - val_loss: 0.5385\n",
            "Epoch 17/50\n",
            "\u001b[1m7296/7296\u001b[0m \u001b[32m━━━━━━━━━━━━━━━━━━━━\u001b[0m\u001b[37m\u001b[0m \u001b[1m21s\u001b[0m 3ms/step - accuracy: 0.7570 - auc: 0.6124 - loss: 0.5398 - val_accuracy: 0.7564 - val_auc: 0.6181 - val_loss: 0.5388\n",
            "Epoch 18/50\n",
            "\u001b[1m7296/7296\u001b[0m \u001b[32m━━━━━━━━━━━━━━━━━━━━\u001b[0m\u001b[37m\u001b[0m \u001b[1m38s\u001b[0m 2ms/step - accuracy: 0.7518 - auc: 0.6181 - loss: 0.5440 - val_accuracy: 0.7561 - val_auc: 0.6173 - val_loss: 0.5392\n",
            "Epoch 19/50\n",
            "\u001b[1m7296/7296\u001b[0m \u001b[32m━━━━━━━━━━━━━━━━━━━━\u001b[0m\u001b[37m\u001b[0m \u001b[1m16s\u001b[0m 2ms/step - accuracy: 0.7573 - auc: 0.6086 - loss: 0.5402 - val_accuracy: 0.7564 - val_auc: 0.6195 - val_loss: 0.5390\n",
            "Epoch 20/50\n",
            "\u001b[1m7296/7296\u001b[0m \u001b[32m━━━━━━━━━━━━━━━━━━━━\u001b[0m\u001b[37m\u001b[0m \u001b[1m26s\u001b[0m 4ms/step - accuracy: 0.7575 - auc: 0.6161 - loss: 0.5385 - val_accuracy: 0.7561 - val_auc: 0.6190 - val_loss: 0.5391\n",
            "Epoch 21/50\n",
            "\u001b[1m7296/7296\u001b[0m \u001b[32m━━━━━━━━━━━━━━━━━━━━\u001b[0m\u001b[37m\u001b[0m \u001b[1m32s\u001b[0m 2ms/step - accuracy: 0.7559 - auc: 0.6167 - loss: 0.5400 - val_accuracy: 0.7561 - val_auc: 0.6182 - val_loss: 0.5393\n",
            "Epoch 22/50\n",
            "\u001b[1m7296/7296\u001b[0m \u001b[32m━━━━━━━━━━━━━━━━━━━━\u001b[0m\u001b[37m\u001b[0m \u001b[1m26s\u001b[0m 3ms/step - accuracy: 0.7563 - auc: 0.6120 - loss: 0.5407 - val_accuracy: 0.7561 - val_auc: 0.6196 - val_loss: 0.5389\n",
            "Epoch 23/50\n",
            "\u001b[1m7296/7296\u001b[0m \u001b[32m━━━━━━━━━━━━━━━━━━━━\u001b[0m\u001b[37m\u001b[0m \u001b[1m25s\u001b[0m 3ms/step - accuracy: 0.7564 - auc: 0.6128 - loss: 0.5406 - val_accuracy: 0.7561 - val_auc: 0.6200 - val_loss: 0.5388\n",
            "Epoch 24/50\n",
            "\u001b[1m7296/7296\u001b[0m \u001b[32m━━━━━━━━━━━━━━━━━━━━\u001b[0m\u001b[37m\u001b[0m \u001b[1m16s\u001b[0m 2ms/step - accuracy: 0.7569 - auc: 0.6161 - loss: 0.5390 - val_accuracy: 0.7561 - val_auc: 0.6196 - val_loss: 0.5390\n",
            "Epoch 25/50\n",
            "\u001b[1m7296/7296\u001b[0m \u001b[32m━━━━━━━━━━━━━━━━━━━━\u001b[0m\u001b[37m\u001b[0m \u001b[1m15s\u001b[0m 2ms/step - accuracy: 0.7551 - auc: 0.6181 - loss: 0.5405 - val_accuracy: 0.7561 - val_auc: 0.6158 - val_loss: 0.5388\n",
            "Epoch 26/50\n",
            "\u001b[1m7296/7296\u001b[0m \u001b[32m━━━━━━━━━━━━━━━━━━━━\u001b[0m\u001b[37m\u001b[0m \u001b[1m18s\u001b[0m 2ms/step - accuracy: 0.7596 - auc: 0.6166 - loss: 0.5360 - val_accuracy: 0.7561 - val_auc: 0.6194 - val_loss: 0.5387\n",
            "Epoch 27/50\n",
            "\u001b[1m7296/7296\u001b[0m \u001b[32m━━━━━━━━━━━━━━━━━━━━\u001b[0m\u001b[37m\u001b[0m \u001b[1m19s\u001b[0m 2ms/step - accuracy: 0.7539 - auc: 0.6107 - loss: 0.5435 - val_accuracy: 0.7561 - val_auc: 0.6191 - val_loss: 0.5389\n",
            "Epoch 28/50\n",
            "\u001b[1m7296/7296\u001b[0m \u001b[32m━━━━━━━━━━━━━━━━━━━━\u001b[0m\u001b[37m\u001b[0m \u001b[1m20s\u001b[0m 2ms/step - accuracy: 0.7569 - auc: 0.6164 - loss: 0.5389 - val_accuracy: 0.7561 - val_auc: 0.6188 - val_loss: 0.5394\n",
            "Epoch 29/50\n",
            "\u001b[1m7296/7296\u001b[0m \u001b[32m━━━━━━━━━━━━━━━━━━━━\u001b[0m\u001b[37m\u001b[0m \u001b[1m15s\u001b[0m 2ms/step - accuracy: 0.7561 - auc: 0.6123 - loss: 0.5409 - val_accuracy: 0.7561 - val_auc: 0.6201 - val_loss: 0.5390\n",
            "Epoch 30/50\n",
            "\u001b[1m7296/7296\u001b[0m \u001b[32m━━━━━━━━━━━━━━━━━━━━\u001b[0m\u001b[37m\u001b[0m \u001b[1m22s\u001b[0m 2ms/step - accuracy: 0.7557 - auc: 0.6108 - loss: 0.5414 - val_accuracy: 0.7561 - val_auc: 0.6178 - val_loss: 0.5388\n",
            "Epoch 31/50\n",
            "\u001b[1m7296/7296\u001b[0m \u001b[32m━━━━━━━━━━━━━━━━━━━━\u001b[0m\u001b[37m\u001b[0m \u001b[1m19s\u001b[0m 2ms/step - accuracy: 0.7549 - auc: 0.6101 - loss: 0.5430 - val_accuracy: 0.7561 - val_auc: 0.6191 - val_loss: 0.5384\n",
            "Epoch 32/50\n",
            "\u001b[1m7296/7296\u001b[0m \u001b[32m━━━━━━━━━━━━━━━━━━━━\u001b[0m\u001b[37m\u001b[0m \u001b[1m15s\u001b[0m 2ms/step - accuracy: 0.7546 - auc: 0.6150 - loss: 0.5417 - val_accuracy: 0.7561 - val_auc: 0.6184 - val_loss: 0.5395\n",
            "Epoch 33/50\n",
            "\u001b[1m7296/7296\u001b[0m \u001b[32m━━━━━━━━━━━━━━━━━━━━\u001b[0m\u001b[37m\u001b[0m \u001b[1m17s\u001b[0m 2ms/step - accuracy: 0.7584 - auc: 0.6132 - loss: 0.5382 - val_accuracy: 0.7563 - val_auc: 0.6196 - val_loss: 0.5390\n",
            "Epoch 34/50\n",
            "\u001b[1m7296/7296\u001b[0m \u001b[32m━━━━━━━━━━━━━━━━━━━━\u001b[0m\u001b[37m\u001b[0m \u001b[1m19s\u001b[0m 2ms/step - accuracy: 0.7552 - auc: 0.6129 - loss: 0.5415 - val_accuracy: 0.7561 - val_auc: 0.6188 - val_loss: 0.5391\n",
            "Epoch 35/50\n",
            "\u001b[1m7296/7296\u001b[0m \u001b[32m━━━━━━━━━━━━━━━━━━━━\u001b[0m\u001b[37m\u001b[0m \u001b[1m20s\u001b[0m 2ms/step - accuracy: 0.7568 - auc: 0.6115 - loss: 0.5403 - val_accuracy: 0.7561 - val_auc: 0.6197 - val_loss: 0.5395\n",
            "Epoch 36/50\n",
            "\u001b[1m7296/7296\u001b[0m \u001b[32m━━━━━━━━━━━━━━━━━━━━\u001b[0m\u001b[37m\u001b[0m \u001b[1m20s\u001b[0m 2ms/step - accuracy: 0.7551 - auc: 0.6124 - loss: 0.5422 - val_accuracy: 0.7561 - val_auc: 0.6181 - val_loss: 0.5385\n",
            "Epoch 37/50\n",
            "\u001b[1m7296/7296\u001b[0m \u001b[32m━━━━━━━━━━━━━━━━━━━━\u001b[0m\u001b[37m\u001b[0m \u001b[1m22s\u001b[0m 2ms/step - accuracy: 0.7561 - auc: 0.6164 - loss: 0.5398 - val_accuracy: 0.7561 - val_auc: 0.6188 - val_loss: 0.5385\n",
            "Epoch 38/50\n",
            "\u001b[1m7296/7296\u001b[0m \u001b[32m━━━━━━━━━━━━━━━━━━━━\u001b[0m\u001b[37m\u001b[0m \u001b[1m19s\u001b[0m 2ms/step - accuracy: 0.7575 - auc: 0.6183 - loss: 0.5379 - val_accuracy: 0.7561 - val_auc: 0.6193 - val_loss: 0.5396\n",
            "Epoch 39/50\n",
            "\u001b[1m7296/7296\u001b[0m \u001b[32m━━━━━━━━━━━━━━━━━━━━\u001b[0m\u001b[37m\u001b[0m \u001b[1m21s\u001b[0m 2ms/step - accuracy: 0.7531 - auc: 0.6138 - loss: 0.5438 - val_accuracy: 0.7561 - val_auc: 0.6193 - val_loss: 0.5390\n",
            "Epoch 40/50\n",
            "\u001b[1m7296/7296\u001b[0m \u001b[32m━━━━━━━━━━━━━━━━━━━━\u001b[0m\u001b[37m\u001b[0m \u001b[1m15s\u001b[0m 2ms/step - accuracy: 0.7559 - auc: 0.6115 - loss: 0.5413 - val_accuracy: 0.7561 - val_auc: 0.6188 - val_loss: 0.5387\n",
            "Epoch 41/50\n",
            "\u001b[1m7296/7296\u001b[0m \u001b[32m━━━━━━━━━━━━━━━━━━━━\u001b[0m\u001b[37m\u001b[0m \u001b[1m21s\u001b[0m 2ms/step - accuracy: 0.7582 - auc: 0.6152 - loss: 0.5381 - val_accuracy: 0.7561 - val_auc: 0.6190 - val_loss: 0.5390\n",
            "Epoch 42/50\n",
            "\u001b[1m7296/7296\u001b[0m \u001b[32m━━━━━━━━━━━━━━━━━━━━\u001b[0m\u001b[37m\u001b[0m \u001b[1m15s\u001b[0m 2ms/step - accuracy: 0.7569 - auc: 0.6134 - loss: 0.5395 - val_accuracy: 0.7561 - val_auc: 0.6186 - val_loss: 0.5391\n",
            "Epoch 43/50\n",
            "\u001b[1m7296/7296\u001b[0m \u001b[32m━━━━━━━━━━━━━━━━━━━━\u001b[0m\u001b[37m\u001b[0m \u001b[1m21s\u001b[0m 2ms/step - accuracy: 0.7568 - auc: 0.6118 - loss: 0.5403 - val_accuracy: 0.7561 - val_auc: 0.6182 - val_loss: 0.5385\n",
            "Epoch 44/50\n",
            "\u001b[1m7296/7296\u001b[0m \u001b[32m━━━━━━━━━━━━━━━━━━━━\u001b[0m\u001b[37m\u001b[0m \u001b[1m15s\u001b[0m 2ms/step - accuracy: 0.7558 - auc: 0.6123 - loss: 0.5411 - val_accuracy: 0.7561 - val_auc: 0.6174 - val_loss: 0.5387\n",
            "Epoch 45/50\n",
            "\u001b[1m7296/7296\u001b[0m \u001b[32m━━━━━━━━━━━━━━━━━━━━\u001b[0m\u001b[37m\u001b[0m \u001b[1m20s\u001b[0m 2ms/step - accuracy: 0.7592 - auc: 0.6101 - loss: 0.5378 - val_accuracy: 0.7561 - val_auc: 0.6186 - val_loss: 0.5386\n",
            "Epoch 46/50\n",
            "\u001b[1m7296/7296\u001b[0m \u001b[32m━━━━━━━━━━━━━━━━━━━━\u001b[0m\u001b[37m\u001b[0m \u001b[1m22s\u001b[0m 2ms/step - accuracy: 0.7586 - auc: 0.6129 - loss: 0.5382 - val_accuracy: 0.7563 - val_auc: 0.6184 - val_loss: 0.5386\n",
            "Epoch 47/50\n",
            "\u001b[1m7296/7296\u001b[0m \u001b[32m━━━━━━━━━━━━━━━━━━━━\u001b[0m\u001b[37m\u001b[0m \u001b[1m16s\u001b[0m 2ms/step - accuracy: 0.7556 - auc: 0.6194 - loss: 0.5397 - val_accuracy: 0.7561 - val_auc: 0.6176 - val_loss: 0.5389\n",
            "Epoch 48/50\n",
            "\u001b[1m7296/7296\u001b[0m \u001b[32m━━━━━━━━━━━━━━━━━━━━\u001b[0m\u001b[37m\u001b[0m \u001b[1m20s\u001b[0m 2ms/step - accuracy: 0.7549 - auc: 0.6147 - loss: 0.5417 - val_accuracy: 0.7561 - val_auc: 0.6183 - val_loss: 0.5383\n",
            "Epoch 49/50\n",
            "\u001b[1m7296/7296\u001b[0m \u001b[32m━━━━━━━━━━━━━━━━━━━━\u001b[0m\u001b[37m\u001b[0m \u001b[1m21s\u001b[0m 2ms/step - accuracy: 0.7582 - auc: 0.6143 - loss: 0.5380 - val_accuracy: 0.7561 - val_auc: 0.6200 - val_loss: 0.5388\n",
            "Epoch 50/50\n",
            "\u001b[1m7296/7296\u001b[0m \u001b[32m━━━━━━━━━━━━━━━━━━━━\u001b[0m\u001b[37m\u001b[0m \u001b[1m16s\u001b[0m 2ms/step - accuracy: 0.7551 - auc: 0.6140 - loss: 0.5415 - val_accuracy: 0.7561 - val_auc: 0.6185 - val_loss: 0.5388\n"
          ]
        }
      ]
    },
    {
      "cell_type": "markdown",
      "source": [
        "## Avaliação no conjunto de teste"
      ],
      "metadata": {
        "id": "t84RMLyRpkyq"
      }
    },
    {
      "cell_type": "code",
      "source": [
        "y_pred = model.predict(X_test)\n",
        "y_pred_binary = np.round(y_pred)"
      ],
      "metadata": {
        "colab": {
          "base_uri": "https://localhost:8080/"
        },
        "id": "WZ1ouo93pnHl",
        "outputId": "6fa0f8e2-1bc0-4f06-d225-89cab58fa3ef"
      },
      "execution_count": 16,
      "outputs": [
        {
          "output_type": "stream",
          "name": "stdout",
          "text": [
            "\u001b[1m713/713\u001b[0m \u001b[32m━━━━━━━━━━━━━━━━━━━━\u001b[0m\u001b[37m\u001b[0m \u001b[1m1s\u001b[0m 1ms/step\n"
          ]
        }
      ]
    },
    {
      "cell_type": "markdown",
      "source": [
        "## Calculando métricas"
      ],
      "metadata": {
        "id": "w2wgqb4Ipr8y"
      }
    },
    {
      "cell_type": "code",
      "source": [
        "accuracy = accuracy_score(y_test, y_pred_binary)\n",
        "f1 = f1_score(y_test, y_pred_binary)\n",
        "\n",
        "print(f'Accuracy: {accuracy}')\n",
        "print(f'F1 Score: {f1}')"
      ],
      "metadata": {
        "colab": {
          "base_uri": "https://localhost:8080/"
        },
        "id": "AZmf_nwsptPr",
        "outputId": "7684919e-9f85-45df-bef1-8ceb354c3714"
      },
      "execution_count": 17,
      "outputs": [
        {
          "output_type": "stream",
          "name": "stdout",
          "text": [
            "Accuracy: 0.7564035087719299\n",
            "F1 Score: 0.0\n"
          ]
        }
      ]
    },
    {
      "cell_type": "markdown",
      "source": [
        "# Explicação\n",
        "\n",
        "\n",
        "**Modelo Sequencial e Camada Dense**:é adequado para construir uma rede neural simples onde as camadas são empilhadas uma após a outra. Neste caso, usei uma única camada com um único neurônio para produzir uma saída binária (0 ou 1).\n",
        "\n",
        "<br>\n",
        "\n",
        "\n",
        "**Função de Ativação Sigmoid**: é usada para transformar a saída do neurônio em 0 e 1, ideal para tarefas de classificação binária.\n",
        "\n",
        "<br>\n",
        "\n",
        "**Otimizador Adam**: é um otimizador que ajusta a taxa de aprendizado durante o treinamento.\n",
        "\n",
        "<br>\n",
        "\n",
        "**Função de Perda Binary Crossentropy**: tem a função de medir a diferença entre as previsões do modelo e os valores reais. Logo, é ideal para tarefas de classificação binária.\n",
        "\n",
        "<br>\n",
        "\n",
        "**Métricas Accuracy e AUC**: mede a proporção de previsões corretas sobre o total de previsões. A AUC (Area Under the Curve) é usada para medir a capacidade do modelo de distinguir entre classes, neste caso, popular e não popular).\n",
        "\n",
        "<br>\n",
        "\n",
        "**Acurácia**: Isso indicará a proporção de músicas corretamente classificadas como populares ou não populares.\n",
        "\n",
        "<br>\n",
        "\n",
        "**F1 Score**: Fornece uma métrica mais equilibrada que leva em conta tanto a precisão quanto o recall, sendo especialmente útil em casos de dados desbalanceados.\n",
        "\n",
        "\n",
        "# Resultados e Interpretação\n",
        "\n",
        "\n",
        "**Desempenho**: uma acurácia de aproximadamente 75,6%,pode parecer bom. No entanto, o F1 score de 0,0 indica que o modelo não conseguiu identificar corretamente nenhuma das instâncias da classe positiva (músicas populares). Isso geralmente ocorre em cenários de dados desbalanceados, onde o modelo pode estar simplesmente prevendo todas as instâncias como a classe majoritária (neste caso, provavelmente a classe \"não popular\").\n",
        "\n",
        " <br>\n",
        "\n",
        "**Possíveis Melhorias**:\n",
        "\n",
        "1. Verificar Desbalanceamento: Conferir a distribuição das classes no seu dataset. Se o número de músicas populares for significativamente menor, isso explica o F1 score baixo.\n",
        "\n",
        "2. Aplicar Técnicas de Balanceamento: Implementar técnicas de oversampling ou undersampling.\n",
        "\n",
        "3. Reajustar o Modelo: Após balancear as classes, treine novamente o modelo e avalie o desempenho."
      ],
      "metadata": {
        "id": "_nkVwDWnp8q_"
      }
    }
  ]
}